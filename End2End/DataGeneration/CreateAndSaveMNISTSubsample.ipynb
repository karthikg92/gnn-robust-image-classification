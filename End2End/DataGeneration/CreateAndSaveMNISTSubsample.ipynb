{
 "cells": [
  {
   "cell_type": "code",
   "execution_count": 1,
   "metadata": {},
   "outputs": [],
   "source": [
    "import numpy as np\n",
    "import pickle\n",
    "\n",
    "np.random.seed(111)"
   ]
  },
  {
   "cell_type": "code",
   "execution_count": 2,
   "metadata": {},
   "outputs": [],
   "source": [
    "# Input parameters\n",
    "N = 50\n",
    "#restrict_digits = None\n",
    "restrict_digits = [ 0, 1]\n",
    "digit_str = ''.join( map(str, restrict_digits) )\n",
    "out_fname = 'MNIST_' + digit_str + '.pkl'"
   ]
  },
  {
   "cell_type": "code",
   "execution_count": 3,
   "metadata": {},
   "outputs": [],
   "source": [
    "# Load the data from the MNIST pickle\n",
    "filehandler = open('mnist_data.pkl', 'rb')\n",
    "train_image, train_label, test_image, test_label = pickle.load(filehandler)"
   ]
  },
  {
   "cell_type": "code",
   "execution_count": 4,
   "metadata": {},
   "outputs": [],
   "source": [
    "# Only retain required digits\n",
    "def restrict_data(img, label, restrict_digits):\n",
    "    label_int = [ np.where(r==1)[0][0] for r in label ]\n",
    "    loc = [ind for ind, el in enumerate(label_int) if (el in restrict_digits)]\n",
    "    rest_image = img[loc, :]\n",
    "    rest_label = label[loc, :] # Only the required indices\n",
    "    rest_label = rest_label[:, restrict_digits] # only ther required columns\n",
    "    return rest_image, rest_label\n",
    "\n",
    "if restrict_digits is not None:\n",
    "    train_image , train_label = restrict_data( train_image, train_label, restrict_digits )\n",
    "    test_image , test_label = restrict_data( test_image, test_label, restrict_digits )\n",
    "\n",
    "# Reshaping to iamges\n",
    "train_image = np.reshape( train_image, [-1,28,28] )\n",
    "test_image = np.reshape( test_image, [-1,28,28] )"
   ]
  },
  {
   "cell_type": "code",
   "execution_count": 6,
   "metadata": {},
   "outputs": [],
   "source": [
    "filehandler = open(out_fname, 'wb')\n",
    "pickle.dump([train_image, train_label, test_image, test_label], filehandler)"
   ]
  },
  {
   "cell_type": "code",
   "execution_count": null,
   "metadata": {},
   "outputs": [],
   "source": []
  },
  {
   "cell_type": "code",
   "execution_count": null,
   "metadata": {
    "scrolled": true
   },
   "outputs": [],
   "source": []
  },
  {
   "cell_type": "code",
   "execution_count": null,
   "metadata": {},
   "outputs": [],
   "source": []
  },
  {
   "cell_type": "code",
   "execution_count": null,
   "metadata": {},
   "outputs": [],
   "source": []
  },
  {
   "cell_type": "code",
   "execution_count": null,
   "metadata": {},
   "outputs": [],
   "source": []
  },
  {
   "cell_type": "code",
   "execution_count": null,
   "metadata": {},
   "outputs": [],
   "source": []
  }
 ],
 "metadata": {
  "kernelspec": {
   "display_name": "Python 3",
   "language": "python",
   "name": "python3"
  },
  "language_info": {
   "codemirror_mode": {
    "name": "ipython",
    "version": 3
   },
   "file_extension": ".py",
   "mimetype": "text/x-python",
   "name": "python",
   "nbconvert_exporter": "python",
   "pygments_lexer": "ipython3",
   "version": "3.6.5"
  }
 },
 "nbformat": 4,
 "nbformat_minor": 2
}
