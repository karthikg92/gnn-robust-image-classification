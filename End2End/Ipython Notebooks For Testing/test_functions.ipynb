{
 "cells": [
  {
   "cell_type": "markdown",
   "metadata": {},
   "source": [
    "# Image2Graph functions"
   ]
  },
  {
   "cell_type": "code",
   "execution_count": null,
   "metadata": {},
   "outputs": [],
   "source": [
    "import numpy as np"
   ]
  },
  {
   "cell_type": "code",
   "execution_count": 2,
   "metadata": {},
   "outputs": [],
   "source": [
    "def random_coord(dims=[28,28], N=400):\n",
    "    coord=[ [i,j] for i in range(dims[0]) for j in range(dims[1]) ]\n",
    "    perm=np.random.permutation(coord)\n",
    "    return perm[:N]"
   ]
  },
  {
   "cell_type": "code",
   "execution_count": 3,
   "metadata": {},
   "outputs": [],
   "source": [
    "def compute_f(I, index):\n",
    "    f=[]\n",
    "    for i,j in index:\n",
    "        f.append(I[:,i,j])\n",
    "    return np.array(f).T"
   ]
  },
  {
   "cell_type": "code",
   "execution_count": 36,
   "metadata": {},
   "outputs": [],
   "source": [
    "def top_k(row, k=8):\n",
    "    r=np.array(row)\n",
    "    index=r.argsort()[-k]\n",
    "    cutoff=r[index]\n",
    "    return [0 if r<cutoff else r  for r in row]\n",
    "\n",
    "def compute_A( k, index):\n",
    "    N=len(index)\n",
    "    A=[]\n",
    "    for i in range(N):\n",
    "        row = [ np.linalg.norm(np.array(index[i]) - np.array(index[j]) ) for j in range(N)]\n",
    "        A.append(top_k(row, k))\n",
    "    A=np.array(A)\n",
    "    return A/np.max(A)"
   ]
  },
  {
   "cell_type": "code",
   "execution_count": null,
   "metadata": {},
   "outputs": [],
   "source": []
  },
  {
   "cell_type": "code",
   "execution_count": 37,
   "metadata": {},
   "outputs": [],
   "source": [
    "def image2graph_setup( N, k, dims=[28,28]):\n",
    "    index=random_coord(dims, N)\n",
    "    A=compute_A(k, index)\n",
    "    return index, A\n"
   ]
  },
  {
   "cell_type": "code",
   "execution_count": null,
   "metadata": {},
   "outputs": [],
   "source": []
  },
  {
   "cell_type": "code",
   "execution_count": 44,
   "metadata": {},
   "outputs": [],
   "source": [
    "index, A= image2graph_setup(N=5, k=3)\n",
    "f=compute_f(Img, index)"
   ]
  },
  {
   "cell_type": "code",
   "execution_count": null,
   "metadata": {},
   "outputs": [],
   "source": []
  },
  {
   "cell_type": "markdown",
   "metadata": {},
   "source": [
    "# Tensorflow layers"
   ]
  },
  {
   "cell_type": "code",
   "execution_count": null,
   "metadata": {},
   "outputs": [],
   "source": [
    "def Identity(n):\n",
    "    with tf.name_scope(\"Identity\"):\n",
    "        I=tf.eye(n)\n",
    "        return I\n",
    "\n",
    "def bias_var(shape, name='bias'):\n",
    "    with tf.name_scope(name):\n",
    "        b = tf.Variable(tf.constant(0.1, shape=shape))\n",
    "        return b   \n",
    "    \n",
    "    \n",
    "def initH(A, name='H'):\n",
    "    with tf.name_scope(name):\n",
    "        b1=bias_var([1], name='a1')\n",
    "        b2=bias_var([1], name='a2')\n",
    "        N=int(A.get_shape()[2])\n",
    "        x= tf.add( tf.multiply( b1 , Identity(N) ) , b2*A )\n",
    "        return x\n"
   ]
  },
  {
   "cell_type": "code",
   "execution_count": null,
   "metadata": {},
   "outputs": [],
   "source": [
    "def GraphLayer(f_in, A, F, name='GraphLayer'):\n",
    "    with tf.name_scope(name):\n",
    "        # The number of input features is C and output features is F\n",
    "        C=int(f_in.get_shape()[2])\n",
    "        output_layer=[]\n",
    "        for i in range(F):\n",
    "            V_f=tf.add_n([tf.matmul(initH(A), tf.expand_dims(f_in[:,:,c], axis=2)) for c in range(C)]) + bias_var([1])\n",
    "            output_layer.append(V_f)    \n",
    "        return tf.squeeze(tf.stack(output_layer, axis=2), [3])"
   ]
  },
  {
   "cell_type": "code",
   "execution_count": null,
   "metadata": {},
   "outputs": [],
   "source": [
    "def fully_commected():\n",
    "    f_flat=tf.reshape(f_out, shape=[-1,49*7])\n",
    "    W_fc=weight_var([49*7, 5])\n",
    "    b_fc=bias_var([5])\n",
    "    x_fc=tf.matmul(f_flat, W_fc) + b_fc"
   ]
  },
  {
   "cell_type": "code",
   "execution_count": null,
   "metadata": {},
   "outputs": [],
   "source": [
    "#Input is function f and adjacency matrix A\n",
    "def graphCNN(f,A):\n",
    "    I=Identity(tf.shape(f)[0])\n",
    "    f1=GraphLayer(f, A, 8)\n",
    "    f2=GraphLayer(f1, A, 16)\n",
    "    f3=GraphLayer(f2, A, 7)\n",
    "    return f3"
   ]
  },
  {
   "cell_type": "code",
   "execution_count": null,
   "metadata": {},
   "outputs": [],
   "source": [
    "def fully_commected(x_in, M, name='FullyConnected'):\n",
    "    with tf.name_scope(name):\n",
    "        N= int(x_in.get_shape()[1])\n",
    "        W_fc=weight_var([N, M])\n",
    "        b_fc=bias_var([M])\n",
    "        x_out=tf.matmul(f_flat, W_fc) + b_fc\n",
    "        return x_out"
   ]
  },
  {
   "cell_type": "markdown",
   "metadata": {},
   "source": [
    "## Tensorflow Models"
   ]
  },
  {
   "cell_type": "code",
   "execution_count": null,
   "metadata": {},
   "outputs": [],
   "source": [
    "class model:\n",
    "    def __init__(self, N, N_class):\n",
    "        self.f=tf.placeholder(tf.float32, [None, N,1])\n",
    "        self.A=tf.placeholder(tf.float32, [None, N, N])\n",
    "        self.Labels=tf.placeholder(tf.float32, [None, N_class])\n",
    "        self.current=self.f\n",
    "        \n",
    "    def add_conv_layer(self, F):\n",
    "        self.current= layers.GraphLayer(self.current, self.A, F, name)\n",
    "        return None\n",
    "    \n",
    "    def add_fc_layer(self, N, dropout=None, name='FClayer'):\n",
    "        f_flat=layers.flatten(self.current)\n",
    "        if dropout not None:\n",
    "            f_flat=tf.nn.dropout(f_flat, dropout)\n",
    "        self.current=layers.fully_connected(f_flat, N)\n",
    "        return None\n",
    "    \n",
    "    def training(self, LearningRate):\n",
    "        loss=layers.cross_entropy_loss(self.current, self.Labels)\n",
    "        train_step = tf.train.AdamOptimizer(LearningRate).minimize(loss)\n",
    "        return training_step"
   ]
  },
  {
   "cell_type": "markdown",
   "metadata": {},
   "source": [
    "# Data Loading Class"
   ]
  },
  {
   "cell_type": "code",
   "execution_count": 118,
   "metadata": {},
   "outputs": [],
   "source": [
    "from utils import *\n",
    "import numpy as np \n",
    "import tensorflow as tf\n",
    "import pickle\n",
    "\n",
    "class DataProcessor:\n",
    "\tdef __init__(self, nodes=25, batchsize=25):\n",
    "\t\tself.tr_f, self.tr_A, self.tr_l, self.te_f, self.te_A, self.te_l = self._load_dataset(nodes)\n",
    "\t\tself.N = nodes\n",
    "\t\tself.BatchSize = batchsize\n",
    "\t\tself.DataPoints = len(self.tr_f)\n",
    "        \n",
    "\tdef _load_dataset(self, nodes):\n",
    "\t\tfilehandler = open('MNIST_' + str(nodes) + '.pkl', 'rb')\n",
    "\t\ttr, te = pickle.load(filehandler)\n",
    "\t\treturn np.expand_dims(tr[0], axis = 2 ), tr[1], tr[2], np.expand_dims(te[0] , axis = 2), te[1], te[2]\n",
    "\n",
    "\tdef _get_index(self, k, N):\n",
    "\t\ta = [i for i in range(N)]\n",
    "\t\ta = np.random.permutation(a)\n",
    "\t\treturn a[:k]\n",
    "    \n",
    "\tdef next_train(self):\n",
    "\t\tindex = self._get_index( self.BatchSize, len(self.tr_f) )\n",
    "        \n",
    "\t\tf = self.tr_f[index, :, :]\n",
    "\t\tA = self.tr_A[index, :, :]\n",
    "\t\tl = self.tr_l[index, :]\n",
    "        \n",
    "\t\treturn f, A, l\n",
    "\n",
    "\n",
    "\tdef validation(self):\n",
    "\t\treturn self.te_f, self.te_A, self.te_l\n",
    "        "
   ]
  },
  {
   "cell_type": "code",
   "execution_count": 119,
   "metadata": {},
   "outputs": [],
   "source": [
    "mnist = DataProcessor(nodes=50)"
   ]
  },
  {
   "cell_type": "code",
   "execution_count": 120,
   "metadata": {},
   "outputs": [],
   "source": [
    "a,b, c = mnist.next_train()"
   ]
  },
  {
   "cell_type": "code",
   "execution_count": 121,
   "metadata": {},
   "outputs": [
    {
     "data": {
      "text/plain": [
       "(25, 50, 1)"
      ]
     },
     "execution_count": 121,
     "metadata": {},
     "output_type": "execute_result"
    }
   ],
   "source": [
    "a.shape"
   ]
  },
  {
   "cell_type": "code",
   "execution_count": 83,
   "metadata": {},
   "outputs": [
    {
     "data": {
      "text/plain": [
       "<BatchDataset shapes: ((?, 784), (?, 10)), types: (tf.float32, tf.float64)>"
      ]
     },
     "execution_count": 83,
     "metadata": {},
     "output_type": "execute_result"
    }
   ],
   "source": [
    "mnist.train"
   ]
  },
  {
   "cell_type": "code",
   "execution_count": 78,
   "metadata": {},
   "outputs": [
    {
     "data": {
      "text/plain": [
       "array(<tf.Tensor 'IteratorGetNext_8:0' shape=(?, 784) dtype=float32>,\n",
       "      dtype=object)"
      ]
     },
     "execution_count": 78,
     "metadata": {},
     "output_type": "execute_result"
    }
   ],
   "source": []
  },
  {
   "cell_type": "code",
   "execution_count": null,
   "metadata": {},
   "outputs": [],
   "source": []
  }
 ],
 "metadata": {
  "kernelspec": {
   "display_name": "Python 3",
   "language": "python",
   "name": "python3"
  },
  "language_info": {
   "codemirror_mode": {
    "name": "ipython",
    "version": 3
   },
   "file_extension": ".py",
   "mimetype": "text/x-python",
   "name": "python",
   "nbconvert_exporter": "python",
   "pygments_lexer": "ipython3",
   "version": "3.6.5"
  }
 },
 "nbformat": 4,
 "nbformat_minor": 2
}
