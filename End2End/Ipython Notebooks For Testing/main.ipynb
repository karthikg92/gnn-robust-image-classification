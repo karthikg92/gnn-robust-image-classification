{
 "cells": [
  {
   "cell_type": "code",
   "execution_count": 1,
   "metadata": {},
   "outputs": [],
   "source": [
    "import numpy as np\n",
    "import tensorflow as tf\n",
    "from tensorflow.examples.tutorials.mnist import input_data\n",
    "import sklearn.preprocessing as sk\n",
    "\n",
    "from utils import *\n",
    "\n",
    "from data_process import *\n",
    "from models import graph_cnn\n",
    "from trainer import Trainer\n",
    "\n",
    "tf.set_random_seed(1234)"
   ]
  },
  {
   "cell_type": "code",
   "execution_count": 2,
   "metadata": {},
   "outputs": [],
   "source": [
    "# Parameters\n",
    "\n",
    "#N=40\n",
    "#k=8\n",
    "#LearningRate=0.001\n",
    "#N_class=10\n",
    "#Epoch=50\n",
    "#BatchSize=5\n",
    "#SaveFreq=50\n",
    "\n",
    "params=Paramaeters()"
   ]
  },
  {
   "cell_type": "code",
   "execution_count": null,
   "metadata": {
    "scrolled": true
   },
   "outputs": [],
   "source": [
    "# Defining the Tensorflow model\n",
    "\n",
    "#f=tf.placeholder(tf.float32, [None, N,1])\n",
    "#A=tf.placeholder(tf.float32, [None, N, N])\n",
    "#Labels=tf.placeholder(tf.float32, [None, N_class])\n",
    "#training_flag = tf.placeholder(tf.bool)\n",
    "#learning_rate = tf.placeholder(tf.float32)\n",
    "\n",
    "#train_step, accuracy, summary= graph_cnn(f,A,Labels, learning_rate, training_flag, N, N_class)\n",
    "     \n",
    "#summary_writer=tf.summary.FileWriter(\"tbx\")\n",
    "#checkpoint=tf.train.Saver(max_to_keep=5, keep_checkpoint_every_n_hours=2)\n"
   ]
  },
  {
   "cell_type": "code",
   "execution_count": null,
   "metadata": {},
   "outputs": [],
   "source": [
    "#Setting up session, checkpoints\n",
    "\n",
    "#sess=tf.Session()\n",
    "\n",
    "#sess.run(tf.global_variables_initializer())\n",
    "#summary_writer.add_graph(sess.graph)\n",
    "#checkpoint.save(sess, '/home/karthik/Desktop/AdvCNN/VerifyMNISTGraph/checkpoint_saver/', global_step=50)"
   ]
  },
  {
   "cell_type": "code",
   "execution_count": 3,
   "metadata": {
    "scrolled": true
   },
   "outputs": [
    {
     "name": "stdout",
     "output_type": "stream",
     "text": [
      "WARNING:tensorflow:From /home/karthik/Desktop/AdvCNN/VerifyMNISTGraph/data_process.py:8: read_data_sets (from tensorflow.contrib.learn.python.learn.datasets.mnist) is deprecated and will be removed in a future version.\n",
      "Instructions for updating:\n",
      "Please use alternatives such as official/mnist/dataset.py from tensorflow/models.\n",
      "WARNING:tensorflow:From /usr/local/lib/python3.6/dist-packages/tensorflow/contrib/learn/python/learn/datasets/mnist.py:260: maybe_download (from tensorflow.contrib.learn.python.learn.datasets.base) is deprecated and will be removed in a future version.\n",
      "Instructions for updating:\n",
      "Please write your own downloading logic.\n",
      "WARNING:tensorflow:From /usr/local/lib/python3.6/dist-packages/tensorflow/contrib/learn/python/learn/datasets/mnist.py:262: extract_images (from tensorflow.contrib.learn.python.learn.datasets.mnist) is deprecated and will be removed in a future version.\n",
      "Instructions for updating:\n",
      "Please use tf.data to implement this functionality.\n",
      "Extracting MNIST_data/train-images-idx3-ubyte.gz\n",
      "WARNING:tensorflow:From /usr/local/lib/python3.6/dist-packages/tensorflow/contrib/learn/python/learn/datasets/mnist.py:267: extract_labels (from tensorflow.contrib.learn.python.learn.datasets.mnist) is deprecated and will be removed in a future version.\n",
      "Instructions for updating:\n",
      "Please use tf.data to implement this functionality.\n",
      "Extracting MNIST_data/train-labels-idx1-ubyte.gz\n",
      "WARNING:tensorflow:From /usr/local/lib/python3.6/dist-packages/tensorflow/contrib/learn/python/learn/datasets/mnist.py:110: dense_to_one_hot (from tensorflow.contrib.learn.python.learn.datasets.mnist) is deprecated and will be removed in a future version.\n",
      "Instructions for updating:\n",
      "Please use tf.one_hot on tensors.\n",
      "Extracting MNIST_data/t10k-images-idx3-ubyte.gz\n",
      "Extracting MNIST_data/t10k-labels-idx1-ubyte.gz\n",
      "WARNING:tensorflow:From /usr/local/lib/python3.6/dist-packages/tensorflow/contrib/learn/python/learn/datasets/mnist.py:290: DataSet.__init__ (from tensorflow.contrib.learn.python.learn.datasets.mnist) is deprecated and will be removed in a future version.\n",
      "Instructions for updating:\n",
      "Please use alternatives such as official/mnist/dataset.py from tensorflow/models.\n"
     ]
    }
   ],
   "source": [
    "# Setting up mnist data\n",
    "mnist=DataProcessor(nodes=params.N, k=params.k, batchsize=params.BatchSize)\n",
    "#f_val, A_val, label_val = mnist.validation()"
   ]
  },
  {
   "cell_type": "code",
   "execution_count": null,
   "metadata": {
    "scrolled": true
   },
   "outputs": [],
   "source": [
    "#for i in range(Epoch* mnist.DataPoints//BatchSize):\n",
    "#    f_batch ,A_batch , label_batch= mnist.next_train()\n",
    "#    sess.run(train_step, feed_dict={f: f_batch, A: A_batch, Labels: label_batch, training_flag: True, learning_rate: LearningRate})\n",
    "#    \n",
    "#    if i%SaveFreq==0:\n",
    "#        acc_batch=  sess.run(accuracy, feed_dict={f: f_batch, A: A_batch, Labels: label_batch, training_flag: False, learning_rate: LearningRate} )\n",
    "#        merged_s, acc=  sess.run([summary, accuracy], feed_dict={f: f_val, A: A_val, Labels: label_val, training_flag: False, learning_rate: LearningRate} )\n",
    "#        summary_writer.add_summary(merged_s,i)\n",
    "#        print(\"Epoch : {0}, Iteration: {1} , Val acc = {2:.2f}, Tr batch acc = {3:.2f}\".format(i//(mnist.DataPoints //BatchSize) +1, i, acc, acc_batch) )\n",
    "    #saver.save(sess, '/home/karthik/Desktop/AdvCNN/VerifyMNISTGraph', global_step=50)"
   ]
  },
  {
   "cell_type": "code",
   "execution_count": null,
   "metadata": {},
   "outputs": [],
   "source": []
  },
  {
   "cell_type": "code",
   "execution_count": null,
   "metadata": {},
   "outputs": [],
   "source": []
  },
  {
   "cell_type": "code",
   "execution_count": null,
   "metadata": {},
   "outputs": [],
   "source": [
    "trainer=Trainer(mnist, params)"
   ]
  },
  {
   "cell_type": "code",
   "execution_count": null,
   "metadata": {
    "scrolled": true
   },
   "outputs": [],
   "source": [
    "trainer.train()"
   ]
  },
  {
   "cell_type": "code",
   "execution_count": null,
   "metadata": {},
   "outputs": [],
   "source": []
  },
  {
   "cell_type": "code",
   "execution_count": 4,
   "metadata": {},
   "outputs": [],
   "source": [
    "f_val, A_val, label_val = mnist.validation()"
   ]
  },
  {
   "cell_type": "code",
   "execution_count": 5,
   "metadata": {},
   "outputs": [
    {
     "data": {
      "text/plain": [
       "(10000, 200, 200)"
      ]
     },
     "execution_count": 5,
     "metadata": {},
     "output_type": "execute_result"
    }
   ],
   "source": [
    "A_val.shape"
   ]
  },
  {
   "cell_type": "code",
   "execution_count": 6,
   "metadata": {},
   "outputs": [],
   "source": [
    "f_val, A_val, label_val = mnist.next_train()"
   ]
  },
  {
   "cell_type": "code",
   "execution_count": 9,
   "metadata": {},
   "outputs": [
    {
     "data": {
      "text/plain": [
       "(50, 200, 200)"
      ]
     },
     "execution_count": 9,
     "metadata": {},
     "output_type": "execute_result"
    }
   ],
   "source": [
    "A_val.shape"
   ]
  },
  {
   "cell_type": "code",
   "execution_count": null,
   "metadata": {},
   "outputs": [],
   "source": []
  },
  {
   "cell_type": "code",
   "execution_count": null,
   "metadata": {},
   "outputs": [],
   "source": []
  },
  {
   "cell_type": "code",
   "execution_count": null,
   "metadata": {},
   "outputs": [],
   "source": []
  },
  {
   "cell_type": "code",
   "execution_count": null,
   "metadata": {},
   "outputs": [],
   "source": []
  }
 ],
 "metadata": {
  "kernelspec": {
   "display_name": "Python 3",
   "language": "python",
   "name": "python3"
  },
  "language_info": {
   "codemirror_mode": {
    "name": "ipython",
    "version": 3
   },
   "file_extension": ".py",
   "mimetype": "text/x-python",
   "name": "python",
   "nbconvert_exporter": "python",
   "pygments_lexer": "ipython3",
   "version": "3.6.5"
  }
 },
 "nbformat": 4,
 "nbformat_minor": 2
}
